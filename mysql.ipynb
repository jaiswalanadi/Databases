{
 "cells": [
  {
   "cell_type": "code",
   "execution_count": null,
   "id": "f674c66a-4023-4b1b-b02c-6d7b9b3ac2ae",
   "metadata": {},
   "outputs": [],
   "source": [
    "#1\n",
    "'''\n",
    "A database is an organized collection of structured information, \n",
    "or data, typically stored electronically in a computer system. \n",
    "A database is usually controlled by a database management system (DBMS).\n",
    "'''\n",
    "\n",
    "'''\n",
    "SQL is the programming language used to interface with relational databases. \n",
    "(Relational databases model data as records in rows and tables with logical links between them). \n",
    "NoSQL is a class of DBMs that are non-relational and generally do not use SQL.\n",
    "'''"
   ]
  },
  {
   "cell_type": "code",
   "execution_count": null,
   "id": "c1e09b72-30ac-4e7b-9f52-50a53792eb18",
   "metadata": {},
   "outputs": [],
   "source": [
    "#2\n",
    "'''\n",
    "Data Definition Language (DDL) is a subset of SQL. \n",
    "It is a language for describing data and its relationships in a database. \n",
    "You can generate DDL in a script for database objects to: \n",
    "Keep a snapshot of the database structure.\n",
    "'''\n",
    "# The CREATE DATABASE command is used is to create a new SQL database.\n",
    "# The ALTER command in SQL is used to make changes to a table, view, or the entire database\n",
    "# The DROP DATABASE command is used is to delete an existing SQL database.\n",
    "# TRUNCATE TABLE command is used to delete complete data from an existing table. You can re-create the table."
   ]
  },
  {
   "cell_type": "code",
   "execution_count": null,
   "id": "ac4e2903-8ab6-46c5-8222-f6552c6c011e",
   "metadata": {},
   "outputs": [],
   "source": [
    "#3\n",
    "'''\n",
    "DML is an abbreviation for Data Manipulation Language. \n",
    "Represents a collection of programming languages explicitly used to make changes to the database, \n",
    "such as: CRUD operations to create, read, update and delete data.\n",
    "'''\n",
    "\n",
    "# The INSERT statement is used to insert a new row in the database that is adding data to a table.\n",
    "# The UPDATE statement is used to update the data or row in the table.\n",
    "# The DELETE statement is used to delete a row from the table in the database."
   ]
  },
  {
   "cell_type": "code",
   "execution_count": null,
   "id": "c356603a-4a5b-4d4a-ab8b-173dc0a6aa48",
   "metadata": {},
   "outputs": [],
   "source": [
    "#4\n",
    "'''\n",
    "The full form of DQL is Data Query Language. \n",
    "DQL is a part of the grouping involved in SQL (Structures Query Language) sub-languages.\n",
    "'''\n",
    "\n",
    "# A SELECT statement retrieves zero or more rows from one or more database tables or database views."
   ]
  },
  {
   "cell_type": "code",
   "execution_count": null,
   "id": "e1edf685-eb02-41b7-8380-5c24192b43a7",
   "metadata": {},
   "outputs": [],
   "source": [
    "#5\n",
    "'''A primary key generally focuses on the uniqueness of the table. It assures the value in the specific column is unique.'''\n",
    "'''A foreign key is generally used to build a relationship between the two tables.'''"
   ]
  },
  {
   "cell_type": "code",
   "execution_count": null,
   "id": "2f32b0c7-ff36-41df-a30d-1e84d6645564",
   "metadata": {},
   "outputs": [],
   "source": [
    "#6\n",
    "import mysql.connector\n",
    "# import mysql.connector\n",
    "#create user 'user'@'%' identified by 'password'\n",
    "mydb = mysql.connector.connect(\n",
    "  host=\"localhost\",\n",
    "  user=\"abc\",\n",
    "  password=\"password\"\n",
    ")\n",
    "print(mydb)\n",
    "mycursor = mydb.cursor()\n",
    "mycursor.execute(\"SHOW DATABASES\")\n",
    "for x in mycursor:\n",
    "    print(x)\n",
    "    \n",
    "'''\n",
    "A cursor is an object which helps to execute the query and fetch the records from the database. \n",
    "The cursor plays a very important role in executing the query.\n",
    "'''"
   ]
  },
  {
   "cell_type": "code",
   "execution_count": null,
   "id": "bc9cd2bd-7fbe-4e77-8aff-b7231771be68",
   "metadata": {},
   "outputs": [],
   "source": [
    "#7\n",
    "'''\n",
    "FROM clause\n",
    "ON clause\n",
    "OUTER clause\n",
    "WHERE clause\n",
    "GROUP BY clause\n",
    "HAVING clause\n",
    "SELECT clause\n",
    "DISTINCT clause\n",
    "ORDER BY clause\n",
    "TOP clause\n",
    "'''"
   ]
  }
 ],
 "metadata": {
  "kernelspec": {
   "display_name": "Python 3 (ipykernel)",
   "language": "python",
   "name": "python3"
  },
  "language_info": {
   "codemirror_mode": {
    "name": "ipython",
    "version": 3
   },
   "file_extension": ".py",
   "mimetype": "text/x-python",
   "name": "python",
   "nbconvert_exporter": "python",
   "pygments_lexer": "ipython3",
   "version": "3.10.8"
  }
 },
 "nbformat": 4,
 "nbformat_minor": 5
}
